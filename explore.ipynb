{
 "cells": [
  {
   "cell_type": "code",
   "execution_count": 1,
   "metadata": {},
   "outputs": [],
   "source": [
    "import requests\n",
    "import pickle\n",
    "\n",
    "from bs4 import BeautifulSoup\n",
    "\n",
    "HEADERS = {\n",
    "    'User-Agent': 'Mozilla/5.0 (Windows NT 10.0; Win64; x64) AppleWebKit/537.36 (KHTML, like Gecko) Chrome/76.0.3809.132 Safari/537.36',\n",
    "    'referer': 'https://www.google.com/'\n",
    "    }\n",
    "\n",
    "URL = 'https://rocket-league.com/items/shop'\n",
    "\n"
   ]
  },
  {
   "cell_type": "code",
   "execution_count": 4,
   "metadata": {},
   "outputs": [],
   "source": [
    "res = requests.get(URL, headers=HEADERS)\n",
    "soup = BeautifulSoup(res.content, 'lxml')"
   ]
  },
  {
   "cell_type": "code",
   "execution_count": 55,
   "metadata": {},
   "outputs": [],
   "source": [
    "with open('rl_soup_dump.pkl', 'rb') as p:\n",
    "    soup = pickle.load(p)"
   ]
  },
  {
   "cell_type": "code",
   "execution_count": 80,
   "metadata": {},
   "outputs": [],
   "source": [
    "\n",
    "daily_items = []\n",
    "\n",
    "for div in soup.find_all('div', attrs={'class': 'rlg-item-shop__item-content'}):\n",
    "    \n",
    "    item_name = div.find('h1', attrs={'class': 'rlg-item-shop__name'})\n",
    "    item_category = div.find('div', attrs={'class': 'rlg-item-shop__item-category'})\n",
    "    item_credits = div.find('div', attrs={'class': 'rlg-item-shop__item-credits'})\n",
    "    \n",
    "    if not item_name:\n",
    "        item_name = div.find('h1', attrs={'class': 'rlg-h2 rlg-item-shop__name --daily'}) \n",
    "    \n",
    "    soup_result = {\n",
    "        'name': item_name,\n",
    "        'category': item_category,\n",
    "        'credits': item_credits\n",
    "    }\n",
    "    \n",
    "    item = {\n",
    "        'name': soup_result.get('name', 'Not Found').text.strip(),\n",
    "        'category': soup_result.get('category', 'Not Found').text.strip(),\n",
    "        'credits': int(soup_result.get('credits', 'Not Found').text)\n",
    "    }\n",
    "    \n",
    "    daily_items.append(item)\n",
    "\n",
    "\n",
    "    \n",
    "    "
   ]
  },
  {
   "cell_type": "code",
   "execution_count": 133,
   "metadata": {},
   "outputs": [],
   "source": [
    "bodies = ['fennec', 'octane', 'twinzer', 'peregrine']\n",
    "\n",
    "\n",
    "def check_shop_item():\n",
    "    for item in daily_items:\n",
    "        \n",
    "        for body in bodies:\n",
    "            if body in item['name'].lower():\n",
    "                print(f'Item Found: {item[\"name\"]} -> {body}')\n",
    "                is_wanted = True\n",
    "                break\n",
    "                \n",
    "            else:\n",
    "                is_wanted = False\n",
    "        \n",
    "            \n",
    "        if 'body' in item['category'].lower():\n",
    "            print('it is a body')\n",
    "            is_body = True\n",
    "        else:\n",
    "            is_body=False\n",
    "            \n",
    "        print(is_wanted, is_body)\n",
    "        \n",
    "        if is_wanted and is_body:\n",
    "            print(f'there it is! lets go spend some money on {item[\"name\"]}: {item[\"credits\"]} credits')\n",
    "            \n",
    "        \n",
    "    "
   ]
  },
  {
   "cell_type": "code",
   "execution_count": 134,
   "metadata": {},
   "outputs": [
    {
     "name": "stdout",
     "output_type": "stream",
     "text": [
      "Item Found: Peregrine TT -> peregrine\n",
      "it is a body\n",
      "True True\n",
      "there it is! lets go spend some money on Peregrine TT: 700 credits\n",
      "False False\n",
      "Item Found: Peregrine tt: Hoodbar -> peregrine\n",
      "True False\n",
      "False False\n",
      "False False\n",
      "Item Found: Octane: Vertebrate -> octane\n",
      "True False\n",
      "False False\n",
      "False False\n"
     ]
    }
   ],
   "source": [
    "check_shop_item()"
   ]
  },
  {
   "cell_type": "code",
   "execution_count": null,
   "metadata": {},
   "outputs": [],
   "source": []
  }
 ],
 "metadata": {
  "kernelspec": {
   "display_name": "Python 3",
   "language": "python",
   "name": "python3"
  },
  "language_info": {
   "codemirror_mode": {
    "name": "ipython",
    "version": 3
   },
   "file_extension": ".py",
   "mimetype": "text/x-python",
   "name": "python",
   "nbconvert_exporter": "python",
   "pygments_lexer": "ipython3",
   "version": "3.7.6"
  }
 },
 "nbformat": 4,
 "nbformat_minor": 4
}
